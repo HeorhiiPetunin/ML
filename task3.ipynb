{
 "cells": [
  {
   "cell_type": "code",
   "execution_count": 62,
   "metadata": {},
   "outputs": [],
   "source": [
    "from keras.models import Sequential\n",
    "from keras.layers import Dense, SimpleRNN, LSTM, Conv1D, MaxPool1D, Dropout\n",
    "from keras.callbacks import EarlyStopping\n",
    "from sklearn.metrics import mean_squared_error\n",
    "from sklearn.model_selection import train_test_split\n",
    "from sklearn.preprocessing import StandardScaler, LabelEncoder\n",
    "import numpy as np\n",
    "import pandas as pd\n",
    "from imblearn.over_sampling import SMOTE"
   ]
  },
  {
   "cell_type": "code",
   "execution_count": 35,
   "metadata": {},
   "outputs": [],
   "source": [
    "from sklearn.metrics import mean_absolute_error, r2_score\n",
    "\n",
    "def metric(y_test, preds):\n",
    "    mae = mean_absolute_error(y_test, preds)\n",
    "    r2 = r2_score(y_test, preds)\n",
    "\n",
    "    print(f'MAE = {mae}')\n",
    "    print(f'r2 = {r2}')"
   ]
  },
  {
   "cell_type": "code",
   "execution_count": 14,
   "metadata": {},
   "outputs": [],
   "source": [
    "df = pd.read_csv('city_day.csv')"
   ]
  },
  {
   "cell_type": "code",
   "execution_count": 15,
   "metadata": {},
   "outputs": [
    {
     "data": {
      "text/plain": [
       "(29531, 16)"
      ]
     },
     "execution_count": 15,
     "metadata": {},
     "output_type": "execute_result"
    }
   ],
   "source": [
    "df.shape"
   ]
  },
  {
   "cell_type": "code",
   "execution_count": 16,
   "metadata": {},
   "outputs": [],
   "source": [
    "df = df.drop(['Date', 'AQI_Bucket', 'Xylene'], axis = 1)"
   ]
  },
  {
   "cell_type": "code",
   "execution_count": 17,
   "metadata": {},
   "outputs": [],
   "source": [
    "df = df.drop_duplicates().dropna()"
   ]
  },
  {
   "cell_type": "code",
   "execution_count": 18,
   "metadata": {},
   "outputs": [
    {
     "data": {
      "text/plain": [
       "(10654, 13)"
      ]
     },
     "execution_count": 18,
     "metadata": {},
     "output_type": "execute_result"
    }
   ],
   "source": [
    "df.shape"
   ]
  },
  {
   "cell_type": "code",
   "execution_count": 19,
   "metadata": {},
   "outputs": [],
   "source": [
    "sm = SMOTE(random_state=42)"
   ]
  },
  {
   "cell_type": "code",
   "execution_count": 20,
   "metadata": {},
   "outputs": [],
   "source": [
    "X_s = df.drop(['City'], axis = 1)\n",
    "Y_s = df['City']"
   ]
  },
  {
   "cell_type": "code",
   "execution_count": 21,
   "metadata": {},
   "outputs": [],
   "source": [
    "x_res, y_res = sm.fit_resample(X_s, Y_s)"
   ]
  },
  {
   "cell_type": "code",
   "execution_count": 22,
   "metadata": {},
   "outputs": [
    {
     "data": {
      "text/plain": [
       "(30096, 12)"
      ]
     },
     "execution_count": 22,
     "metadata": {},
     "output_type": "execute_result"
    }
   ],
   "source": [
    "x_res.shape"
   ]
  },
  {
   "cell_type": "code",
   "execution_count": 23,
   "metadata": {},
   "outputs": [],
   "source": [
    "x_temp = x_res.drop(['AQI'], axis=1)\n",
    "y_temp = x_res['AQI']"
   ]
  },
  {
   "cell_type": "code",
   "execution_count": 26,
   "metadata": {},
   "outputs": [],
   "source": [
    "x_train, x_test, y_train, y_test = train_test_split(x_temp, y_temp, test_size=0.1, random_state=42)"
   ]
  },
  {
   "cell_type": "code",
   "execution_count": 27,
   "metadata": {},
   "outputs": [],
   "source": [
    "scaler = StandardScaler()\n",
    "x_train = scaler.fit_transform(x_train)\n",
    "x_test = scaler.transform(x_test)"
   ]
  },
  {
   "cell_type": "markdown",
   "metadata": {},
   "source": [
    "# RNN"
   ]
  },
  {
   "cell_type": "code",
   "execution_count": 177,
   "metadata": {},
   "outputs": [],
   "source": [
    "X_train_rnn = x_train.reshape((x_train.shape[0], 1, x_train.shape[1]))\n",
    "X_test_rnn = x_test.reshape((x_test.shape[0], 1, x_test.shape[1]))"
   ]
  },
  {
   "cell_type": "code",
   "execution_count": 181,
   "metadata": {},
   "outputs": [],
   "source": [
    "model_rnn = Sequential()\n",
    "model_rnn.add(SimpleRNN(12, input_shape=(X_train_rnn.shape[1], X_train_rnn.shape[2]), activation='relu'))\n",
    "model_rnn.add(Dense(12, activation='relu'))\n",
    "model_rnn.add(Dropout(0.2))\n",
    "model_rnn.add(Dense(1, activation='linear'))"
   ]
  },
  {
   "cell_type": "code",
   "execution_count": 182,
   "metadata": {},
   "outputs": [
    {
     "name": "stdout",
     "output_type": "stream",
     "text": [
      "Epoch 1/50\n",
      "678/678 - 2s - loss: 12615.9258 - val_loss: 2713.3096 - 2s/epoch - 3ms/step\n",
      "Epoch 2/50\n",
      "678/678 - 1s - loss: 2492.1455 - val_loss: 1078.2948 - 1s/epoch - 2ms/step\n",
      "Epoch 3/50\n",
      "678/678 - 1s - loss: 1646.1475 - val_loss: 770.6302 - 1s/epoch - 2ms/step\n",
      "Epoch 4/50\n",
      "678/678 - 1s - loss: 1456.8795 - val_loss: 642.7869 - 1s/epoch - 2ms/step\n",
      "Epoch 5/50\n",
      "678/678 - 1s - loss: 1393.9368 - val_loss: 635.1069 - 1s/epoch - 2ms/step\n",
      "Epoch 6/50\n",
      "678/678 - 1s - loss: 1366.6956 - val_loss: 610.5865 - 1s/epoch - 2ms/step\n",
      "Epoch 7/50\n",
      "678/678 - 1s - loss: 1323.3268 - val_loss: 596.1137 - 1s/epoch - 2ms/step\n",
      "Epoch 8/50\n",
      "678/678 - 1s - loss: 1286.0631 - val_loss: 581.0851 - 1s/epoch - 2ms/step\n",
      "Epoch 9/50\n",
      "678/678 - 1s - loss: 1308.6073 - val_loss: 589.7509 - 1s/epoch - 2ms/step\n",
      "Epoch 10/50\n",
      "678/678 - 1s - loss: 1324.9116 - val_loss: 594.6614 - 1s/epoch - 2ms/step\n",
      "Epoch 11/50\n",
      "678/678 - 1s - loss: 1281.8810 - val_loss: 600.8553 - 1s/epoch - 2ms/step\n",
      "Epoch 12/50\n",
      "678/678 - 1s - loss: 1308.5059 - val_loss: 592.2300 - 1s/epoch - 2ms/step\n",
      "Epoch 13/50\n",
      "678/678 - 1s - loss: 1280.4913 - val_loss: 580.5267 - 1s/epoch - 2ms/step\n",
      "Epoch 14/50\n",
      "678/678 - 1s - loss: 1305.3992 - val_loss: 577.0114 - 1s/epoch - 2ms/step\n",
      "Epoch 15/50\n",
      "678/678 - 1s - loss: 1248.8313 - val_loss: 573.2780 - 1s/epoch - 2ms/step\n",
      "Epoch 16/50\n",
      "678/678 - 1s - loss: 1269.9941 - val_loss: 581.9678 - 1s/epoch - 2ms/step\n",
      "Epoch 17/50\n",
      "678/678 - 1s - loss: 1287.2777 - val_loss: 619.0638 - 1s/epoch - 2ms/step\n",
      "Epoch 18/50\n",
      "678/678 - 1s - loss: 1246.2628 - val_loss: 561.9518 - 1s/epoch - 2ms/step\n",
      "Epoch 19/50\n",
      "678/678 - 1s - loss: 1220.6948 - val_loss: 595.6439 - 1s/epoch - 2ms/step\n",
      "Epoch 20/50\n",
      "678/678 - 1s - loss: 1243.7600 - val_loss: 590.5117 - 1s/epoch - 2ms/step\n",
      "Epoch 21/50\n",
      "678/678 - 1s - loss: 1276.1558 - val_loss: 593.1222 - 1s/epoch - 2ms/step\n",
      "Epoch 22/50\n",
      "678/678 - 1s - loss: 1270.3090 - val_loss: 603.5132 - 1s/epoch - 2ms/step\n",
      "Epoch 23/50\n",
      "678/678 - 2s - loss: 1235.0994 - val_loss: 579.4775 - 2s/epoch - 3ms/step\n",
      "MAE = 12.78557863311866\n",
      "r2 = 0.9468760973316773\n"
     ]
    }
   ],
   "source": [
    "model_rnn.compile(loss='mean_squared_error', optimizer='adam')\n",
    "\n",
    "early_stopping = EarlyStopping(monitor='val_loss', patience=5, restore_best_weights=True)\n",
    "\n",
    "model_rnn.fit(X_train_rnn, y_train, epochs=50, batch_size=32, validation_split=0.2, callbacks=[early_stopping], verbose=2)\n",
    "\n",
    "metric(y_test, y_pred_rnn)"
   ]
  },
  {
   "cell_type": "markdown",
   "metadata": {},
   "source": [
    "# CNN"
   ]
  },
  {
   "cell_type": "code",
   "execution_count": 133,
   "metadata": {},
   "outputs": [],
   "source": [
    "X_train_cnn = x_train.reshape((x_train.shape[0], x_train.shape[1], 1))\n",
    "X_test_cnn = x_test.reshape((x_test.shape[0], x_test.shape[1], 1))"
   ]
  },
  {
   "cell_type": "code",
   "execution_count": 173,
   "metadata": {},
   "outputs": [],
   "source": [
    "model_cnn = Sequential()\n",
    "model_cnn.add(Conv1D(filters=16, kernel_size=5, activation='relu', input_shape=(X_train_cnn.shape[1], 1)))\n",
    "model_cnn.add(MaxPool1D(pool_size=2))\n",
    "model_cnn.add(Conv1D(filters=32, kernel_size=2, activation='relu', input_shape=(X_train_cnn.shape[1], 1)))\n",
    "model_cnn.add(MaxPool1D(pool_size=2))\n",
    "model_cnn.add(Flatten())\n",
    "model_cnn.add(Dense(11, activation='relu'))\n",
    "model_cnn.add(Dense(1, activation='linear'))"
   ]
  },
  {
   "cell_type": "code",
   "execution_count": 174,
   "metadata": {},
   "outputs": [],
   "source": [
    "model_cnn.compile(loss='mean_squared_error', optimizer='adam')"
   ]
  },
  {
   "cell_type": "code",
   "execution_count": 123,
   "metadata": {},
   "outputs": [],
   "source": [
    "early_stopping = EarlyStopping(monitor='val_loss', patience=4, restore_best_weights=True)"
   ]
  },
  {
   "cell_type": "code",
   "execution_count": 175,
   "metadata": {},
   "outputs": [
    {
     "name": "stdout",
     "output_type": "stream",
     "text": [
      "Epoch 1/50\n",
      "678/678 - 2s - loss: 6392.2134 - val_loss: 1748.2080 - 2s/epoch - 3ms/step\n",
      "Epoch 2/50\n",
      "678/678 - 1s - loss: 1269.0494 - val_loss: 1000.9542 - 1s/epoch - 2ms/step\n",
      "Epoch 3/50\n",
      "678/678 - 1s - loss: 948.8330 - val_loss: 871.9277 - 1s/epoch - 2ms/step\n",
      "Epoch 4/50\n",
      "678/678 - 1s - loss: 831.1791 - val_loss: 761.3864 - 1s/epoch - 2ms/step\n",
      "Epoch 5/50\n",
      "678/678 - 1s - loss: 755.7728 - val_loss: 698.9586 - 1s/epoch - 2ms/step\n",
      "Epoch 6/50\n",
      "678/678 - 1s - loss: 710.1546 - val_loss: 666.4285 - 1s/epoch - 2ms/step\n",
      "Epoch 7/50\n",
      "678/678 - 1s - loss: 676.0725 - val_loss: 623.9120 - 1s/epoch - 2ms/step\n",
      "Epoch 8/50\n",
      "678/678 - 1s - loss: 645.7086 - val_loss: 651.5801 - 1s/epoch - 2ms/step\n",
      "Epoch 9/50\n",
      "678/678 - 1s - loss: 624.7430 - val_loss: 579.1151 - 1s/epoch - 2ms/step\n",
      "Epoch 10/50\n",
      "678/678 - 1s - loss: 604.6265 - val_loss: 568.5717 - 1s/epoch - 2ms/step\n",
      "Epoch 11/50\n",
      "678/678 - 1s - loss: 590.1046 - val_loss: 552.1035 - 1s/epoch - 2ms/step\n",
      "Epoch 12/50\n",
      "678/678 - 1s - loss: 573.6390 - val_loss: 538.0850 - 1s/epoch - 2ms/step\n",
      "Epoch 13/50\n",
      "678/678 - 1s - loss: 558.6309 - val_loss: 538.5689 - 1s/epoch - 2ms/step\n",
      "Epoch 14/50\n",
      "678/678 - 1s - loss: 546.4453 - val_loss: 521.8853 - 1s/epoch - 2ms/step\n",
      "Epoch 15/50\n",
      "678/678 - 1s - loss: 532.9886 - val_loss: 506.2688 - 1s/epoch - 2ms/step\n",
      "Epoch 16/50\n",
      "678/678 - 1s - loss: 517.0571 - val_loss: 509.6106 - 1s/epoch - 2ms/step\n",
      "Epoch 17/50\n",
      "678/678 - 1s - loss: 504.9503 - val_loss: 482.6441 - 1s/epoch - 2ms/step\n",
      "Epoch 18/50\n",
      "678/678 - 1s - loss: 494.0695 - val_loss: 481.1216 - 1s/epoch - 2ms/step\n",
      "Epoch 19/50\n",
      "678/678 - 1s - loss: 482.0741 - val_loss: 468.6659 - 1s/epoch - 2ms/step\n",
      "Epoch 20/50\n",
      "678/678 - 1s - loss: 471.9140 - val_loss: 491.0838 - 1s/epoch - 2ms/step\n",
      "Epoch 21/50\n",
      "678/678 - 1s - loss: 468.1105 - val_loss: 459.6017 - 1s/epoch - 2ms/step\n",
      "Epoch 22/50\n",
      "678/678 - 1s - loss: 459.3512 - val_loss: 457.4560 - 1s/epoch - 2ms/step\n",
      "Epoch 23/50\n",
      "678/678 - 1s - loss: 451.3904 - val_loss: 444.5641 - 1s/epoch - 2ms/step\n",
      "Epoch 24/50\n",
      "678/678 - 1s - loss: 446.4857 - val_loss: 436.0570 - 1s/epoch - 2ms/step\n",
      "Epoch 25/50\n",
      "678/678 - 1s - loss: 443.7897 - val_loss: 438.2114 - 1s/epoch - 2ms/step\n",
      "Epoch 26/50\n",
      "678/678 - 1s - loss: 440.1496 - val_loss: 443.3810 - 1s/epoch - 2ms/step\n",
      "Epoch 27/50\n",
      "678/678 - 1s - loss: 436.0279 - val_loss: 433.8814 - 1s/epoch - 2ms/step\n",
      "Epoch 28/50\n",
      "678/678 - 1s - loss: 427.5094 - val_loss: 432.5270 - 1s/epoch - 2ms/step\n",
      "Epoch 29/50\n",
      "678/678 - 1s - loss: 428.9118 - val_loss: 452.3396 - 1s/epoch - 2ms/step\n",
      "Epoch 30/50\n",
      "678/678 - 1s - loss: 420.7068 - val_loss: 421.8706 - 1s/epoch - 2ms/step\n",
      "Epoch 31/50\n",
      "678/678 - 1s - loss: 422.0359 - val_loss: 427.9577 - 1s/epoch - 2ms/step\n",
      "Epoch 32/50\n",
      "678/678 - 1s - loss: 416.0216 - val_loss: 459.2272 - 1s/epoch - 2ms/step\n",
      "Epoch 33/50\n",
      "678/678 - 1s - loss: 418.1251 - val_loss: 448.2240 - 1s/epoch - 2ms/step\n",
      "Epoch 34/50\n",
      "678/678 - 1s - loss: 413.9973 - val_loss: 436.1151 - 1s/epoch - 2ms/step\n"
     ]
    },
    {
     "data": {
      "text/plain": [
       "<keras.src.callbacks.History at 0x1f63005b3d0>"
      ]
     },
     "execution_count": 175,
     "metadata": {},
     "output_type": "execute_result"
    }
   ],
   "source": [
    "model_cnn.fit(X_train_cnn, y_train, epochs=50, batch_size=32, validation_split=0.2, callbacks=[early_stopping], verbose=2)"
   ]
  },
  {
   "cell_type": "code",
   "execution_count": 176,
   "metadata": {},
   "outputs": [
    {
     "name": "stdout",
     "output_type": "stream",
     "text": [
      "95/95 [==============================] - 0s 1ms/step\n",
      "MAE = 13.489125748982085\n",
      "r2 = 0.9431691578122468\n"
     ]
    }
   ],
   "source": [
    "y_pred_cnn = model_cnn.predict(X_test_cnn)\n",
    "metric(y_test, y_pred_cnn)"
   ]
  },
  {
   "cell_type": "markdown",
   "metadata": {},
   "source": [
    "# MLP"
   ]
  },
  {
   "cell_type": "code",
   "execution_count": 226,
   "metadata": {},
   "outputs": [],
   "source": [
    "model = Sequential()\n",
    "model.add(Dense(128, input_dim=x_train.shape[1], activation='relu'))\n",
    "model.add(Dense(64, activation='relu'))\n",
    "model.add(Dense(32, activation='relu'))\n",
    "model.add(Dense(16, activation='relu'))\n",
    "\n",
    "model.add(Dense(16, activation='relu'))\n",
    "model.add(Dense(32, activation='relu'))\n",
    "model.add(Dense(64, activation='relu'))\n",
    "model.add(Dense(128, activation='relu'))\n",
    "\n",
    "model.add(Dense(1, activation='linear'))"
   ]
  },
  {
   "cell_type": "code",
   "execution_count": 227,
   "metadata": {},
   "outputs": [
    {
     "name": "stdout",
     "output_type": "stream",
     "text": [
      "Epoch 1/50\n",
      "678/678 - 3s - loss: 2043.2936 - val_loss: 527.5334 - 3s/epoch - 4ms/step\n",
      "Epoch 2/50\n",
      "678/678 - 1s - loss: 500.2367 - val_loss: 558.2879 - 1s/epoch - 2ms/step\n",
      "Epoch 3/50\n",
      "678/678 - 1s - loss: 426.6586 - val_loss: 523.0687 - 1s/epoch - 2ms/step\n",
      "Epoch 4/50\n",
      "678/678 - 2s - loss: 403.8649 - val_loss: 371.6602 - 2s/epoch - 2ms/step\n",
      "Epoch 5/50\n",
      "678/678 - 2s - loss: 380.1226 - val_loss: 397.6148 - 2s/epoch - 2ms/step\n",
      "Epoch 6/50\n",
      "678/678 - 1s - loss: 356.4639 - val_loss: 376.0883 - 1s/epoch - 2ms/step\n",
      "Epoch 7/50\n",
      "678/678 - 2s - loss: 355.9767 - val_loss: 351.2362 - 2s/epoch - 2ms/step\n",
      "Epoch 8/50\n",
      "678/678 - 2s - loss: 346.0504 - val_loss: 340.8375 - 2s/epoch - 3ms/step\n",
      "Epoch 9/50\n",
      "678/678 - 2s - loss: 343.1530 - val_loss: 327.9735 - 2s/epoch - 3ms/step\n",
      "Epoch 10/50\n",
      "678/678 - 2s - loss: 335.2800 - val_loss: 325.3408 - 2s/epoch - 3ms/step\n",
      "Epoch 11/50\n",
      "678/678 - 2s - loss: 322.5540 - val_loss: 354.6678 - 2s/epoch - 3ms/step\n",
      "Epoch 12/50\n",
      "678/678 - 2s - loss: 319.3159 - val_loss: 301.9511 - 2s/epoch - 3ms/step\n",
      "Epoch 13/50\n",
      "678/678 - 2s - loss: 319.4581 - val_loss: 330.0962 - 2s/epoch - 3ms/step\n",
      "Epoch 14/50\n",
      "678/678 - 2s - loss: 314.9568 - val_loss: 290.3919 - 2s/epoch - 3ms/step\n",
      "Epoch 15/50\n",
      "678/678 - 2s - loss: 291.3133 - val_loss: 298.2218 - 2s/epoch - 3ms/step\n",
      "Epoch 16/50\n",
      "678/678 - 2s - loss: 308.4827 - val_loss: 301.2926 - 2s/epoch - 3ms/step\n",
      "Epoch 17/50\n",
      "678/678 - 2s - loss: 296.9564 - val_loss: 281.2462 - 2s/epoch - 3ms/step\n",
      "Epoch 18/50\n",
      "678/678 - 2s - loss: 291.7476 - val_loss: 424.1293 - 2s/epoch - 3ms/step\n",
      "Epoch 19/50\n",
      "678/678 - 2s - loss: 295.5093 - val_loss: 299.5660 - 2s/epoch - 3ms/step\n",
      "Epoch 20/50\n",
      "678/678 - 2s - loss: 277.3068 - val_loss: 337.5598 - 2s/epoch - 3ms/step\n",
      "95/95 [==============================] - 0s 2ms/step\n",
      "MAE = 10.460285373377202\n",
      "r2 = 0.9614848162221709\n"
     ]
    }
   ],
   "source": [
    "model.compile(loss='mean_squared_error', optimizer='adam')\n",
    "\n",
    "early_stopping = EarlyStopping(monitor='val_loss', patience=3, restore_best_weights=True)\n",
    "\n",
    "model.fit(x_train, y_train, epochs=50, batch_size=32, validation_split=0.2, callbacks=[early_stopping], verbose=2)\n",
    "\n",
    "y_pred = model.predict(x_test)\n",
    "metric(y_pred, y_test)"
   ]
  }
 ],
 "metadata": {
  "kernelspec": {
   "display_name": "Python 3",
   "language": "python",
   "name": "python3"
  },
  "language_info": {
   "codemirror_mode": {
    "name": "ipython",
    "version": 3
   },
   "file_extension": ".py",
   "mimetype": "text/x-python",
   "name": "python",
   "nbconvert_exporter": "python",
   "pygments_lexer": "ipython3",
   "version": "3.11.2"
  }
 },
 "nbformat": 4,
 "nbformat_minor": 2
}
